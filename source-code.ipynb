{
 "cells": [
  {
   "metadata": {},
   "cell_type": "markdown",
   "source": "# Unlocking Gold Market Trends",
   "id": "728eaf8319fbb426"
  },
  {
   "cell_type": "code",
   "id": "initial_id",
   "metadata": {
    "collapsed": true,
    "ExecuteTime": {
     "end_time": "2025-01-29T10:35:48.226395Z",
     "start_time": "2025-01-29T10:35:48.223678Z"
    }
   },
   "source": "print(\"Hello World\")",
   "outputs": [
    {
     "name": "stdout",
     "output_type": "stream",
     "text": [
      "Hello World\n"
     ]
    }
   ],
   "execution_count": 1
  },
  {
   "metadata": {},
   "cell_type": "markdown",
   "source": "##1. Introduction",
   "id": "6f52fefa69328543"
  },
  {
   "metadata": {},
   "cell_type": "code",
   "outputs": [],
   "execution_count": null,
   "source": "print(\"Hello World\")",
   "id": "c428bb1532e003f"
  },
  {
   "metadata": {},
   "cell_type": "markdown",
   "source": "##2. Data Collection",
   "id": "d6aa6b4758a0f161"
  },
  {
   "metadata": {},
   "cell_type": "code",
   "outputs": [],
   "execution_count": null,
   "source": "print(\"Hello World\")",
   "id": "efce8630a2de944f"
  },
  {
   "metadata": {
    "ExecuteTime": {
     "end_time": "2025-01-29T10:55:32.009850Z",
     "start_time": "2025-01-29T10:55:32.007934Z"
    }
   },
   "cell_type": "code",
   "source": "import yfinance as yf",
   "id": "f7ace42af4a06ae3",
   "outputs": [],
   "execution_count": 4
  },
  {
   "metadata": {
    "ExecuteTime": {
     "end_time": "2025-01-29T10:55:34.519198Z",
     "start_time": "2025-01-29T10:55:32.755236Z"
    }
   },
   "cell_type": "code",
   "source": [
    "# หุ้นทองคำต่างประเทศ\n",
    "GStock_price = yf.Ticker('GC=F') #ตัวย่อของหุ้น\n",
    "G_df = GStock_price.history(interval = '1d', start = '2013-1-1', end = '2022-12-31')\n",
    "\n",
    "# กองทุนทองต่างประเทศ\n",
    "AStock_price = yf.Ticker('GLD')\n",
    "A_df = AStock_price.history(interval = '1d', start = '2013-1-1', end = '2022-12-31')\n",
    "\n",
    "# กองทุนทองประเทศไทย\n",
    "TStock_price = yf.Ticker('GLD.BK')\n",
    "T_df = TStock_price.history(interval = '1d', start = '2013-1-1', end = '2022-12-31')"
   ],
   "id": "e1b1e528c252714c",
   "outputs": [],
   "execution_count": 5
  },
  {
   "metadata": {
    "ExecuteTime": {
     "end_time": "2025-01-29T10:55:36.458349Z",
     "start_time": "2025-01-29T10:55:36.446684Z"
    }
   },
   "cell_type": "code",
   "source": "G_df.head(3)",
   "id": "6cf449054c114e2b",
   "outputs": [
    {
     "data": {
      "text/plain": [
       "                                  Open         High          Low        Close  \\\n",
       "Date                                                                            \n",
       "2013-01-02 00:00:00-05:00  1672.800049  1693.800049  1670.000000  1687.900024   \n",
       "2013-01-03 00:00:00-05:00  1686.099976  1686.800049  1662.000000  1673.699951   \n",
       "2013-01-04 00:00:00-05:00  1647.000000  1658.300049  1625.699951  1648.099976   \n",
       "\n",
       "                           Volume  Dividends  Stock Splits  \n",
       "Date                                                        \n",
       "2013-01-02 00:00:00-05:00      35        0.0           0.0  \n",
       "2013-01-03 00:00:00-05:00     140        0.0           0.0  \n",
       "2013-01-04 00:00:00-05:00     199        0.0           0.0  "
      ],
      "text/html": [
       "<div>\n",
       "<style scoped>\n",
       "    .dataframe tbody tr th:only-of-type {\n",
       "        vertical-align: middle;\n",
       "    }\n",
       "\n",
       "    .dataframe tbody tr th {\n",
       "        vertical-align: top;\n",
       "    }\n",
       "\n",
       "    .dataframe thead th {\n",
       "        text-align: right;\n",
       "    }\n",
       "</style>\n",
       "<table border=\"1\" class=\"dataframe\">\n",
       "  <thead>\n",
       "    <tr style=\"text-align: right;\">\n",
       "      <th></th>\n",
       "      <th>Open</th>\n",
       "      <th>High</th>\n",
       "      <th>Low</th>\n",
       "      <th>Close</th>\n",
       "      <th>Volume</th>\n",
       "      <th>Dividends</th>\n",
       "      <th>Stock Splits</th>\n",
       "    </tr>\n",
       "    <tr>\n",
       "      <th>Date</th>\n",
       "      <th></th>\n",
       "      <th></th>\n",
       "      <th></th>\n",
       "      <th></th>\n",
       "      <th></th>\n",
       "      <th></th>\n",
       "      <th></th>\n",
       "    </tr>\n",
       "  </thead>\n",
       "  <tbody>\n",
       "    <tr>\n",
       "      <th>2013-01-02 00:00:00-05:00</th>\n",
       "      <td>1672.800049</td>\n",
       "      <td>1693.800049</td>\n",
       "      <td>1670.000000</td>\n",
       "      <td>1687.900024</td>\n",
       "      <td>35</td>\n",
       "      <td>0.0</td>\n",
       "      <td>0.0</td>\n",
       "    </tr>\n",
       "    <tr>\n",
       "      <th>2013-01-03 00:00:00-05:00</th>\n",
       "      <td>1686.099976</td>\n",
       "      <td>1686.800049</td>\n",
       "      <td>1662.000000</td>\n",
       "      <td>1673.699951</td>\n",
       "      <td>140</td>\n",
       "      <td>0.0</td>\n",
       "      <td>0.0</td>\n",
       "    </tr>\n",
       "    <tr>\n",
       "      <th>2013-01-04 00:00:00-05:00</th>\n",
       "      <td>1647.000000</td>\n",
       "      <td>1658.300049</td>\n",
       "      <td>1625.699951</td>\n",
       "      <td>1648.099976</td>\n",
       "      <td>199</td>\n",
       "      <td>0.0</td>\n",
       "      <td>0.0</td>\n",
       "    </tr>\n",
       "  </tbody>\n",
       "</table>\n",
       "</div>"
      ]
     },
     "execution_count": 6,
     "metadata": {},
     "output_type": "execute_result"
    }
   ],
   "execution_count": 6
  },
  {
   "metadata": {},
   "cell_type": "code",
   "outputs": [],
   "execution_count": null,
   "source": "",
   "id": "5c8027de2d04bd4c"
  },
  {
   "metadata": {},
   "cell_type": "markdown",
   "source": "##3. Data Preprocessing",
   "id": "668db2d8283fe774"
  },
  {
   "metadata": {},
   "cell_type": "code",
   "outputs": [],
   "execution_count": null,
   "source": "print(\"Hello World\")",
   "id": "5d2859b83e97e9c9"
  },
  {
   "metadata": {},
   "cell_type": "markdown",
   "source": "##4. Exploratory Data Analysis",
   "id": "7dcf46cccffd9a87"
  },
  {
   "metadata": {},
   "cell_type": "code",
   "outputs": [],
   "execution_count": null,
   "source": "print(\"Hello World\")",
   "id": "eaa877406d22df84"
  },
  {
   "metadata": {},
   "cell_type": "markdown",
   "source": "##5. Model Building",
   "id": "d9951b8755c1fc6c"
  },
  {
   "metadata": {},
   "cell_type": "code",
   "outputs": [],
   "execution_count": null,
   "source": "print(\"Hello World\")",
   "id": "5c6ce10e335d790"
  },
  {
   "metadata": {},
   "cell_type": "markdown",
   "source": "##6. Model Evaluation",
   "id": "fcf68bbd892b2338"
  },
  {
   "metadata": {},
   "cell_type": "code",
   "outputs": [],
   "execution_count": null,
   "source": "print(\"Hello World\")",
   "id": "8a0bc7073c15cea"
  },
  {
   "metadata": {},
   "cell_type": "markdown",
   "source": "##7. Conclusion",
   "id": "930806734485ed72"
  },
  {
   "metadata": {},
   "cell_type": "code",
   "outputs": [],
   "execution_count": null,
   "source": "print(\"Hello World\")",
   "id": "caeee540d152ab8a"
  },
  {
   "metadata": {},
   "cell_type": "markdown",
   "source": "##8. References",
   "id": "57488c2e93d1bcdc"
  },
  {
   "metadata": {},
   "cell_type": "code",
   "outputs": [],
   "execution_count": null,
   "source": "print(\"Hello World\")",
   "id": "544155668bc626ce"
  },
  {
   "metadata": {},
   "cell_type": "markdown",
   "source": "##9. Future Work",
   "id": "5b2e05396249ee96"
  },
  {
   "metadata": {},
   "cell_type": "code",
   "outputs": [],
   "execution_count": null,
   "source": "print(\"Hello World\")",
   "id": "4132a0a530a0c8dd"
  }
 ],
 "metadata": {
  "kernelspec": {
   "display_name": "Python 3",
   "language": "python",
   "name": "python3"
  },
  "language_info": {
   "codemirror_mode": {
    "name": "ipython",
    "version": 2
   },
   "file_extension": ".py",
   "mimetype": "text/x-python",
   "name": "python",
   "nbconvert_exporter": "python",
   "pygments_lexer": "ipython2",
   "version": "2.7.6"
  }
 },
 "nbformat": 4,
 "nbformat_minor": 5
}
